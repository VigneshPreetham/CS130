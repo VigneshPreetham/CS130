{
  "cells": [
    {
      "cell_type": "code",
      "execution_count": 1,
      "metadata": {
        "id": "75LDuWYZ78vG"
      },
      "outputs": [],
      "source": [
        "import requests"
      ]
    },
    {
      "cell_type": "code",
      "execution_count": 2,
      "metadata": {
        "id": "kMerWn3oN1uu"
      },
      "outputs": [],
      "source": [
        "#the format: https://api.spoonacular.com/food/products/search?query=yogurt&apiKey=API-KEY"
      ]
    },
    {
      "cell_type": "code",
      "execution_count": 3,
      "metadata": {
        "id": "v_RECj8gOy45"
      },
      "outputs": [],
      "source": [
        "food_name = \"pizza\"\n",
        "api_key = \"3331a6a378954bbfb02f0473be66cba5\""
      ]
    },
    {
      "cell_type": "code",
      "execution_count": 4,
      "metadata": {
        "id": "SYZRQYtzBlDq"
      },
      "outputs": [],
      "source": [
        "response = requests.get(\"https://api.spoonacular.com/recipes/search?query=\"+food_name+\"&apiKey=\"+api_key)"
      ]
    },
    {
      "cell_type": "code",
      "execution_count": 5,
      "metadata": {
        "colab": {
          "base_uri": "https://localhost:8080/"
        },
        "id": "Mz1GDuswClYj",
        "outputId": "bb166195-359a-4554-e22f-34ca1b04b970"
      },
      "outputs": [
        {
          "output_type": "stream",
          "name": "stdout",
          "text": [
            "Here is the response:  {'results': [{'readyInMinutes': 45, 'sourceUrl': 'http://www.afrolems.com/2014/03/08/plantain-pizza/', 'image': 'plantain-pizza-716300.jpg', 'servings': 3, 'id': 716300, 'title': 'Plantain Pizza'}, {'readyInMinutes': 45, 'sourceUrl': 'http://www.foodista.com/recipe/RB57HRNX/tomato-and-bacon-pizza-with-rice-crust', 'image': 'Tomato-and-Bacon-Pizza-With-Rice-Crust-663553.jpg', 'servings': 8, 'id': 663553, 'title': 'Tomato and Bacon Pizza With Rice Crust'}, {'readyInMinutes': 18, 'sourceUrl': 'https://www.pinkwhen.com/christmas-fruit-pizza/', 'image': 'how-to-make-the-ultimate-christmas-fruit-pizza-1061943.jpg', 'servings': 8, 'id': 1061943, 'title': 'How to Make the Ultimate Christmas Fruit Pizza'}, {'readyInMinutes': 45, 'sourceUrl': 'https://www.foodista.com/recipe/7ZRQJMW4/butternut-squash-pizza', 'image': 'Butternut-Squash-Pizza-636593.jpg', 'servings': 4, 'id': 636593, 'title': 'Butternut Squash Pizza'}, {'readyInMinutes': 45, 'sourceUrl': 'http://www.foodista.com/recipe/PRMSG6W5/rustic-grilled-peaches-pizza', 'image': 'Rustic-Grilled-Peaches-Pizza-658920.jpg', 'servings': 4, 'id': 658920, 'title': 'Rustic Grilled Peaches Pizza'}, {'readyInMinutes': 45, 'sourceUrl': 'https://www.foodista.com/recipe/H4FD2GWH/summer-vegetable-pizza', 'image': 'summer-vegetable-pizza-662264.jpg', 'servings': 4, 'id': 662264, 'title': 'summer vegetable pizza'}, {'readyInMinutes': 45, 'sourceUrl': 'http://www.foodista.com/recipe/363LNF4Q/multigrain-tandoori-pizza-with-paneer-tikka', 'image': 'Multigrain-Tandoori-Pizza-With-Paneer-Tikka-652592.jpg', 'servings': 2, 'id': 652592, 'title': 'Multigrain Tandoori Pizza With Paneer Tikka'}, {'readyInMinutes': 45, 'sourceUrl': 'https://www.foodista.com/recipe/62GDZ335/elk-italian-sausage-pizza-with-ricotta-cheese-sauted-mushrooms-and-onion', 'image': 'Elk-Italian-Sausage-Pizza-With-Ricotta-Cheese--Sautd-Mushrooms-and-Onion-642371.jpg', 'servings': 4, 'id': 642371, 'title': 'Elk Italian Sausage Pizza With Ricotta Cheese, Sautéd Mushrooms and Onion'}, {'readyInMinutes': 45, 'sourceUrl': 'http://www.foodista.com/recipe/G2PNVHZF/thin-crust-genoa-salami-pizza', 'image': 'Thin-Crust-Genoa-Salami-Pizza-663366.png', 'servings': 4, 'id': 663366, 'title': 'Thin Crust Genoa Salami Pizza'}, {'readyInMinutes': 45, 'sourceUrl': 'https://www.foodista.com/recipe/L22DJCK8/sweet-potato-sausage-and-caramelized-onion-pizza', 'image': 'Sweet-Potato--Sausage-and-Caramelized-Onion-Pizza-662605.jpg', 'servings': 8, 'id': 662605, 'title': 'Sweet Potato, Sausage and Caramelized Onion Pizza'}], 'baseUri': 'https://spoonacular.com/recipeImages/', 'offset': 0, 'number': 10, 'totalResults': 22, 'processingTimeMs': 40, 'expires': 1706301632902, 'isStale': False}\n"
          ]
        }
      ],
      "source": [
        "print(\"Here is the response: \",response.json())"
      ]
    },
    {
      "cell_type": "code",
      "execution_count": 6,
      "metadata": {
        "id": "0aWAsAOuSZDK"
      },
      "outputs": [],
      "source": [
        "list_recipes = response.json()"
      ]
    },
    {
      "cell_type": "code",
      "execution_count": 7,
      "metadata": {
        "id": "Eqnokoc8SpJZ"
      },
      "outputs": [],
      "source": [
        "recipe_info = list_recipes['results'][0]"
      ]
    },
    {
      "cell_type": "code",
      "execution_count": 8,
      "metadata": {
        "colab": {
          "base_uri": "https://localhost:8080/"
        },
        "id": "wgP5hq7QS88g",
        "outputId": "17e954ff-f9bc-4044-81d6-084c4caab6d6"
      },
      "outputs": [
        {
          "output_type": "stream",
          "name": "stdout",
          "text": [
            "http://www.afrolems.com/2014/03/08/plantain-pizza/\n"
          ]
        }
      ],
      "source": [
        "recipe_url = recipe_info['sourceUrl']\n",
        "print(recipe_url)"
      ]
    },
    {
      "cell_type": "code",
      "execution_count": 9,
      "metadata": {
        "id": "234ihWp6amYB"
      },
      "outputs": [],
      "source": [
        "entire_recipe = requests.get(\"https://api.spoonacular.com/recipes/extract?url=\"+recipe_url+\"&apiKey=\"+api_key)"
      ]
    },
    {
      "cell_type": "code",
      "execution_count": 35,
      "metadata": {
        "colab": {
          "base_uri": "https://localhost:8080/"
        },
        "id": "7bH4QHvKhrEb",
        "outputId": "5cc370b7-c102-4b74-f3e5-20484eaf75a2"
      },
      "outputs": [
        {
          "output_type": "stream",
          "name": "stdout",
          "text": [
            "Status:  <Response [200]>\n"
          ]
        }
      ],
      "source": [
        "print(\"Status: \", entire_recipe)"
      ]
    },
    {
      "cell_type": "code",
      "execution_count": 36,
      "metadata": {
        "colab": {
          "base_uri": "https://localhost:8080/"
        },
        "id": "Yk3lSh0-iSO0",
        "outputId": "8925071c-5932-413b-85a6-1aa2425d08ca"
      },
      "outputs": [
        {
          "output_type": "stream",
          "name": "stdout",
          "text": [
            "{'vegetarian': False, 'vegan': False, 'glutenFree': False, 'dairyFree': True, 'veryHealthy': False, 'cheap': False, 'veryPopular': False, 'sustainable': False, 'lowFodmap': False, 'weightWatcherSmartPoints': 16, 'gaps': 'no', 'preparationMinutes': -1, 'cookingMinutes': -1, 'aggregateLikes': 95, 'healthScore': 29, 'creditsText': 'afrolems.com', 'sourceName': 'afrolems.com', 'pricePerServing': 146.54, 'extendedIngredients': [{'id': 23572, 'aisle': 'Frozen', 'image': 'beef-cubes-raw.png', 'consistency': 'SOLID', 'name': 'beef', 'nameClean': 'beef', 'original': '1 cup of chopped Beef', 'originalName': 'chopped Beef', 'amount': 1.0, 'unit': 'cup', 'meta': ['chopped'], 'measures': {'us': {'amount': 1.0, 'unitShort': 'cup', 'unitLong': 'cup'}, 'metric': {'amount': 225.0, 'unitShort': 'g', 'unitLong': 'grams'}}}, {'id': 10211821, 'aisle': 'Produce', 'image': 'yellow-bell-pepper.jpg', 'consistency': 'SOLID', 'name': 'bell pepper', 'nameClean': 'bell pepper', 'original': '1 Bell pepper (Blended)', 'originalName': 'Bell pepper (Blended)', 'amount': 1.0, 'unit': '', 'meta': ['(Blended)'], 'measures': {'us': {'amount': 1.0, 'unitShort': '', 'unitLong': ''}, 'metric': {'amount': 1.0, 'unitShort': '', 'unitLong': ''}}}, {'id': 10211821, 'aisle': 'Produce', 'image': 'bell-pepper-orange.png', 'consistency': 'SOLID', 'name': 'bell pepper', 'nameClean': 'bell pepper', 'original': '1 Bell pepper (Blended)', 'originalName': 'Bell pepper (Blended)', 'amount': 1.0, 'unit': '', 'meta': ['(Blended)'], 'measures': {'us': {'amount': 1.0, 'unitShort': '', 'unitLong': ''}, 'metric': {'amount': 1.0, 'unitShort': '', 'unitLong': ''}}}, {'id': 10211821, 'aisle': 'Produce', 'image': 'yellow-bell-pepper.jpg', 'consistency': 'SOLID', 'name': 'bell peppers', 'nameClean': 'bell pepper', 'original': '1 handful of chopped bell peppers', 'originalName': 'chopped bell peppers', 'amount': 1.0, 'unit': 'handful', 'meta': ['chopped'], 'measures': {'us': {'amount': 1.0, 'unitShort': 'handful', 'unitLong': 'handful'}, 'metric': {'amount': 1.0, 'unitShort': 'handful', 'unitLong': 'handful'}}}, {'id': 10211821, 'aisle': 'Produce', 'image': 'bell-pepper-orange.png', 'consistency': 'SOLID', 'name': 'bell peppers', 'nameClean': 'bell pepper', 'original': '1 handful of chopped bell peppers', 'originalName': 'chopped bell peppers', 'amount': 1.0, 'unit': 'handful', 'meta': ['chopped'], 'measures': {'us': {'amount': 1.0, 'unitShort': 'handful', 'unitLong': 'handful'}, 'metric': {'amount': 1.0, 'unitShort': 'handful', 'unitLong': 'handful'}}}, {'id': 10120129, 'aisle': 'Baking', 'image': 'flour.png', 'consistency': 'SOLID', 'name': 'bread flour', 'nameClean': 'bread flour', 'original': '2 cups of Bread flour', 'originalName': 'Bread flour', 'amount': 2.0, 'unit': 'cups', 'meta': [], 'measures': {'us': {'amount': 2.0, 'unitShort': 'cups', 'unitLong': 'cups'}, 'metric': {'amount': 250.0, 'unitShort': 'g', 'unitLong': 'grams'}}}, {'id': 10014412, 'aisle': 'Frozen', 'image': 'ice-cubes.png', 'consistency': 'SOLID', 'name': 'seasoning cube', 'nameClean': 'ice', 'original': 'Seasoning cube', 'originalName': 'Seasoning cube', 'amount': 3.0, 'unit': 'servings', 'meta': [], 'measures': {'us': {'amount': 3.0, 'unitShort': 'servings', 'unitLong': 'servings'}, 'metric': {'amount': 3.0, 'unitShort': 'servings', 'unitLong': 'servings'}}}, {'id': 4582, 'aisle': 'Oil, Vinegar, Salad Dressing', 'image': 'vegetable-oil.jpg', 'consistency': 'LIQUID', 'name': 'oil', 'nameClean': 'cooking oil', 'original': '1 tablespoon of oil', 'originalName': 'oil', 'amount': 1.0, 'unit': 'tablespoon', 'meta': [], 'measures': {'us': {'amount': 1.0, 'unitShort': 'Tbsp', 'unitLong': 'Tbsp'}, 'metric': {'amount': 1.0, 'unitShort': 'Tbsp', 'unitLong': 'Tbsp'}}}, {'id': 4582, 'aisle': 'Oil, Vinegar, Salad Dressing', 'image': 'vegetable-oil.jpg', 'consistency': 'LIQUID', 'name': 'oil', 'nameClean': 'cooking oil', 'original': '1 teaspoon oil', 'originalName': 'oil', 'amount': 1.0, 'unit': 'teaspoon', 'meta': [], 'measures': {'us': {'amount': 1.0, 'unitShort': 'tsp', 'unitLong': 'teaspoon'}, 'metric': {'amount': 1.0, 'unitShort': 'tsp', 'unitLong': 'teaspoon'}}}, {'id': 11282, 'aisle': 'Produce', 'image': 'brown-onion.png', 'consistency': 'SOLID', 'name': 'onions', 'nameClean': 'onion', 'original': 'A handful of chopped onions', 'originalName': 'chopped onions', 'amount': 1.0, 'unit': 'handful', 'meta': ['chopped'], 'measures': {'us': {'amount': 1.0, 'unitShort': 'handful', 'unitLong': 'handful'}, 'metric': {'amount': 1.0, 'unitShort': 'handful', 'unitLong': 'handful'}}}, {'id': 10099295, 'aisle': 'Produce', 'image': 'bananas-ripe.jpg', 'consistency': 'SOLID', 'name': 'over-ripe plantain', 'nameClean': 'yellow plantain', 'original': '1 over-ripe plantain (Mashed)', 'originalName': 'over-ripe plantain (Mashed)', 'amount': 1.0, 'unit': '', 'meta': ['mashed', '()'], 'measures': {'us': {'amount': 1.0, 'unitShort': '', 'unitLong': ''}, 'metric': {'amount': 1.0, 'unitShort': '', 'unitLong': ''}}}, {'id': 2047, 'aisle': 'Spices and Seasonings', 'image': 'salt.jpg', 'consistency': 'SOLID', 'name': 'salt', 'nameClean': 'table salt', 'original': '1 teaspoon salt', 'originalName': 'salt', 'amount': 1.0, 'unit': 'teaspoon', 'meta': [], 'measures': {'us': {'amount': 1.0, 'unitShort': 'tsp', 'unitLong': 'teaspoon'}, 'metric': {'amount': 1.0, 'unitShort': 'tsp', 'unitLong': 'teaspoon'}}}, {'id': 19335, 'aisle': 'Baking', 'image': 'sugar-in-bowl.png', 'consistency': 'SOLID', 'name': 'sugar', 'nameClean': 'sugar', 'original': '1/2 teaspoon of sugar', 'originalName': 'sugar', 'amount': 0.5, 'unit': 'teaspoon', 'meta': [], 'measures': {'us': {'amount': 0.5, 'unitShort': 'tsps', 'unitLong': 'teaspoons'}, 'metric': {'amount': 0.5, 'unitShort': 'tsps', 'unitLong': 'teaspoons'}}}, {'id': 11529, 'aisle': 'Produce', 'image': 'tomato.png', 'consistency': 'SOLID', 'name': 'tomato)', 'nameClean': 'tomato', 'original': '1 tomato(Blended)', 'originalName': 'tomato(Blended)', 'amount': 1.0, 'unit': '', 'meta': [], 'measures': {'us': {'amount': 1.0, 'unitShort': '', 'unitLong': ''}, 'metric': {'amount': 1.0, 'unitShort': '', 'unitLong': ''}}}, {'id': 14412, 'aisle': 'Beverages', 'image': 'water.png', 'consistency': 'LIQUID', 'name': 'water', 'nameClean': 'water', 'original': '3/4 cup of water', 'originalName': 'water', 'amount': 0.75, 'unit': 'cup', 'meta': [], 'measures': {'us': {'amount': 0.75, 'unitShort': 'cups', 'unitLong': 'cups'}, 'metric': {'amount': 177.441, 'unitShort': 'ml', 'unitLong': 'milliliters'}}}, {'id': 18375, 'aisle': 'Baking', 'image': 'yeast-granules.jpg', 'consistency': 'SOLID', 'name': 'yeast', 'nameClean': 'dry yeast', 'original': '1.5 teaspoons of yeast', 'originalName': 'yeast', 'amount': 1.5, 'unit': 'teaspoons', 'meta': [], 'measures': {'us': {'amount': 1.5, 'unitShort': 'tsps', 'unitLong': 'teaspoons'}, 'metric': {'amount': 1.5, 'unitShort': 'tsps', 'unitLong': 'teaspoons'}}}], 'id': 716300, 'title': 'Plantain Pizza', 'readyInMinutes': 45, 'servings': 3, 'sourceUrl': 'http://www.afrolems.com/2014/03/08/plantain-pizza/', 'image': 'https://spoonacular.com/recipeImages/716300-556x370.jpg', 'imageType': 'jpg', 'summary': 'Plantain Pizzan is a Mediterranean main course. One serving contains <b>657 calories</b>, <b>27g of protein</b>, and <b>23g of fat</b>. This dairy free recipe serves 3 and costs <b>$1.47 per serving</b>. 95 people were impressed by this recipe. It is brought to you by Afrolems. If you have tomato), bell pepper, bell peppers, and a few other ingredients on hand, you can make it. From preparation to the plate, this recipe takes about <b>45 minutes</b>. All things considered, we decided this recipe <b>deserves a spoonacular score of 91%</b>. This score is outstanding. Similar recipes include <a href=\"https://spoonacular.com/recipes/how-to-spiralize-a-plantain-plantain-rice-and-beans-563745\">How to Spiralize a Plantain & Plantain “Rice” and Beans</a>, <a href=\"https://spoonacular.com/recipes/plantain-chips-150821\">Plantain Chips</a>, and <a href=\"https://spoonacular.com/recipes/plantain-fritters-316444\">Plantain Fritters</a>.', 'cuisines': ['Mediterranean', 'Italian', 'European'], 'dishTypes': ['lunch', 'main course', 'main dish', 'dinner'], 'diets': ['dairy free'], 'occasions': [], 'instructions': '<p>Dissolve the yeast in warm water and leave to stand for about 5 minutes.Mix the oil, flour, salt, sugar and mashed plantain and pour in the dissolved yeast.Knead the dough till its elastic which may take aBout 15-20 minutes By hand or 10 minutes in a mixer.Coat a Bowl lightly with oil and place the dough in it. Cover with a plastic wrap and leave to rise between 1.5 – 2 hours.While the dough is rising, heat up the oil for the sauce, fry the Blended tomato and pepper, season and stir fry the Beef in the tomato sauce. Set aside.When the dough rises, divide into two. Sprinkle some flour on a flat surface and with a rolling pin, flatten out the dough but not excessively. Cut the dough into your desired shape, rub some oil on it and spread your sauce and toppings on it and set aside.Heat up your oven to 350 F and place your pizza dough on a lightly oiled foil pan and Bake for 12-15 mins. Serve warm</p>', 'analyzedInstructions': [{'name': '', 'steps': [{'number': 1, 'step': 'Dissolve the yeast in warm water and leave to stand for about 5 minutes.', 'ingredients': [{'id': 14412, 'name': 'water', 'localizedName': 'water', 'image': 'water.png'}, {'id': 18375, 'name': 'yeast', 'localizedName': 'yeast', 'image': 'yeast-granules.jpg'}], 'equipment': [], 'length': {'number': 5, 'unit': 'minutes'}}, {'number': 2, 'step': 'Mix the oil, flour, salt, sugar and mashed plantain and pour in the dissolved yeast.Knead the dough till its elastic which may take aBout 15-20 minutes By hand or 10 minutes in a mixer.Coat a Bowl lightly with oil and place the dough in it. Cover with a plastic wrap and leave to rise between 1.5 – 2 hours.While the dough is rising, heat up the oil for the sauce, fry the Blended tomato and pepper, season and stir fry the Beef in the tomato sauce. Set aside.When the dough rises, divide into two.', 'ingredients': [{'id': 11549, 'name': 'tomato sauce', 'localizedName': 'tomato sauce', 'image': 'tomato-sauce-or-pasta-sauce.jpg'}, {'id': 99295, 'name': 'plantain', 'localizedName': 'plantain', 'image': 'plantains.jpg'}, {'id': 1002030, 'name': 'pepper', 'localizedName': 'pepper', 'image': 'pepper.jpg'}, {'id': 11529, 'name': 'tomato', 'localizedName': 'tomato', 'image': 'tomato.png'}, {'id': 0, 'name': 'dough', 'localizedName': 'dough', 'image': 'pizza-dough'}, {'id': 20081, 'name': 'all purpose flour', 'localizedName': 'all purpose flour', 'image': 'flour.png'}, {'id': 0, 'name': 'sauce', 'localizedName': 'sauce', 'image': ''}, {'id': 19335, 'name': 'sugar', 'localizedName': 'sugar', 'image': 'sugar-in-bowl.png'}, {'id': 18375, 'name': 'yeast', 'localizedName': 'yeast', 'image': 'yeast-granules.jpg'}, {'id': 23572, 'name': 'beef', 'localizedName': 'beef', 'image': 'beef-cubes-raw.png'}, {'id': 2047, 'name': 'salt', 'localizedName': 'salt', 'image': 'salt.jpg'}, {'id': 10018364, 'name': 'wrap', 'localizedName': 'wrap', 'image': 'flour-tortilla.jpg'}, {'id': 4582, 'name': 'cooking oil', 'localizedName': 'cooking oil', 'image': 'vegetable-oil.jpg'}], 'equipment': [{'id': 404730, 'name': 'plastic wrap', 'localizedName': 'plastic wrap', 'image': 'plastic-wrap.jpg'}, {'id': 404726, 'name': 'blender', 'localizedName': 'blender', 'image': 'blender.png'}, {'id': 404783, 'name': 'bowl', 'localizedName': 'bowl', 'image': 'bowl.jpg'}], 'length': {'number': 150, 'unit': 'minutes'}}, {'number': 3, 'step': 'Sprinkle some flour on a flat surface and with a rolling pin, flatten out the dough but not excessively.', 'ingredients': [{'id': 0, 'name': 'dough', 'localizedName': 'dough', 'image': 'pizza-dough'}, {'id': 20081, 'name': 'all purpose flour', 'localizedName': 'all purpose flour', 'image': 'flour.png'}], 'equipment': [{'id': 404746, 'name': 'rolling pin', 'localizedName': 'rolling pin', 'image': 'rolling-pin.jpg'}]}, {'number': 4, 'step': 'Cut the dough into your desired shape, rub some oil on it and spread your sauce and toppings on it and set aside.', 'ingredients': [{'id': 0, 'name': 'spread', 'localizedName': 'spread', 'image': ''}, {'id': 0, 'name': 'dough', 'localizedName': 'dough', 'image': 'pizza-dough'}, {'id': 0, 'name': 'sauce', 'localizedName': 'sauce', 'image': ''}, {'id': 4582, 'name': 'cooking oil', 'localizedName': 'cooking oil', 'image': 'vegetable-oil.jpg'}, {'id': 1012034, 'name': 'dry seasoning rub', 'localizedName': 'dry seasoning rub', 'image': 'seasoning.png'}], 'equipment': []}, {'number': 5, 'step': 'Heat up your oven to 350 F and place your pizza dough on a lightly oiled foil pan and', 'ingredients': [{'id': 93610, 'name': 'pizza dough', 'localizedName': 'pizza dough', 'image': 'pizza-dough.jpg'}], 'equipment': [{'id': 404765, 'name': 'aluminum foil', 'localizedName': 'aluminum foil', 'image': 'aluminum-foil.png'}, {'id': 404784, 'name': 'oven', 'localizedName': 'oven', 'image': 'oven.jpg', 'temperature': {'number': 350.0, 'unit': 'Fahrenheit'}}, {'id': 404645, 'name': 'frying pan', 'localizedName': 'frying pan', 'image': 'pan.png'}]}, {'number': 6, 'step': 'Bake for 12-15 mins.', 'ingredients': [], 'equipment': [{'id': 404784, 'name': 'oven', 'localizedName': 'oven', 'image': 'oven.jpg'}], 'length': {'number': 15, 'unit': 'minutes'}}, {'number': 7, 'step': 'Serve warm', 'ingredients': [], 'equipment': []}]}], 'originalId': None, 'spoonacularScore': 91.96609497070312, 'spoonacularSourceUrl': 'https://spoonacular.com/plantain-pizza-716300'}\n"
          ]
        }
      ],
      "source": [
        "all_info = entire_recipe.json()\n",
        "print(all_info)"
      ]
    },
    {
      "cell_type": "code",
      "execution_count": 37,
      "metadata": {
        "id": "9W5baNLXi3Fo"
      },
      "outputs": [],
      "source": [
        "recipe_instructions = all_info['instructions']\n",
        "recipe_ingredients = all_info['extendedIngredients']\n",
        "\n"
      ]
    },
    {
      "cell_type": "code",
      "execution_count": 38,
      "metadata": {
        "colab": {
          "base_uri": "https://localhost:8080/"
        },
        "id": "C_WyYniTonRm",
        "outputId": "fff39819-1819-4c4b-dd6c-3c3567ccae6c"
      },
      "outputs": [
        {
          "output_type": "stream",
          "name": "stdout",
          "text": [
            "[{'id': 23572, 'aisle': 'Frozen', 'image': 'beef-cubes-raw.png', 'consistency': 'SOLID', 'name': 'beef', 'nameClean': 'beef', 'original': '1 cup of chopped Beef', 'originalName': 'chopped Beef', 'amount': 1.0, 'unit': 'cup', 'meta': ['chopped'], 'measures': {'us': {'amount': 1.0, 'unitShort': 'cup', 'unitLong': 'cup'}, 'metric': {'amount': 225.0, 'unitShort': 'g', 'unitLong': 'grams'}}}, {'id': 10211821, 'aisle': 'Produce', 'image': 'yellow-bell-pepper.jpg', 'consistency': 'SOLID', 'name': 'bell pepper', 'nameClean': 'bell pepper', 'original': '1 Bell pepper (Blended)', 'originalName': 'Bell pepper (Blended)', 'amount': 1.0, 'unit': '', 'meta': ['(Blended)'], 'measures': {'us': {'amount': 1.0, 'unitShort': '', 'unitLong': ''}, 'metric': {'amount': 1.0, 'unitShort': '', 'unitLong': ''}}}, {'id': 10211821, 'aisle': 'Produce', 'image': 'bell-pepper-orange.png', 'consistency': 'SOLID', 'name': 'bell pepper', 'nameClean': 'bell pepper', 'original': '1 Bell pepper (Blended)', 'originalName': 'Bell pepper (Blended)', 'amount': 1.0, 'unit': '', 'meta': ['(Blended)'], 'measures': {'us': {'amount': 1.0, 'unitShort': '', 'unitLong': ''}, 'metric': {'amount': 1.0, 'unitShort': '', 'unitLong': ''}}}, {'id': 10211821, 'aisle': 'Produce', 'image': 'yellow-bell-pepper.jpg', 'consistency': 'SOLID', 'name': 'bell peppers', 'nameClean': 'bell pepper', 'original': '1 handful of chopped bell peppers', 'originalName': 'chopped bell peppers', 'amount': 1.0, 'unit': 'handful', 'meta': ['chopped'], 'measures': {'us': {'amount': 1.0, 'unitShort': 'handful', 'unitLong': 'handful'}, 'metric': {'amount': 1.0, 'unitShort': 'handful', 'unitLong': 'handful'}}}, {'id': 10211821, 'aisle': 'Produce', 'image': 'bell-pepper-orange.png', 'consistency': 'SOLID', 'name': 'bell peppers', 'nameClean': 'bell pepper', 'original': '1 handful of chopped bell peppers', 'originalName': 'chopped bell peppers', 'amount': 1.0, 'unit': 'handful', 'meta': ['chopped'], 'measures': {'us': {'amount': 1.0, 'unitShort': 'handful', 'unitLong': 'handful'}, 'metric': {'amount': 1.0, 'unitShort': 'handful', 'unitLong': 'handful'}}}, {'id': 10120129, 'aisle': 'Baking', 'image': 'flour.png', 'consistency': 'SOLID', 'name': 'bread flour', 'nameClean': 'bread flour', 'original': '2 cups of Bread flour', 'originalName': 'Bread flour', 'amount': 2.0, 'unit': 'cups', 'meta': [], 'measures': {'us': {'amount': 2.0, 'unitShort': 'cups', 'unitLong': 'cups'}, 'metric': {'amount': 250.0, 'unitShort': 'g', 'unitLong': 'grams'}}}, {'id': 10014412, 'aisle': 'Frozen', 'image': 'ice-cubes.png', 'consistency': 'SOLID', 'name': 'seasoning cube', 'nameClean': 'ice', 'original': 'Seasoning cube', 'originalName': 'Seasoning cube', 'amount': 3.0, 'unit': 'servings', 'meta': [], 'measures': {'us': {'amount': 3.0, 'unitShort': 'servings', 'unitLong': 'servings'}, 'metric': {'amount': 3.0, 'unitShort': 'servings', 'unitLong': 'servings'}}}, {'id': 4582, 'aisle': 'Oil, Vinegar, Salad Dressing', 'image': 'vegetable-oil.jpg', 'consistency': 'LIQUID', 'name': 'oil', 'nameClean': 'cooking oil', 'original': '1 tablespoon of oil', 'originalName': 'oil', 'amount': 1.0, 'unit': 'tablespoon', 'meta': [], 'measures': {'us': {'amount': 1.0, 'unitShort': 'Tbsp', 'unitLong': 'Tbsp'}, 'metric': {'amount': 1.0, 'unitShort': 'Tbsp', 'unitLong': 'Tbsp'}}}, {'id': 4582, 'aisle': 'Oil, Vinegar, Salad Dressing', 'image': 'vegetable-oil.jpg', 'consistency': 'LIQUID', 'name': 'oil', 'nameClean': 'cooking oil', 'original': '1 teaspoon oil', 'originalName': 'oil', 'amount': 1.0, 'unit': 'teaspoon', 'meta': [], 'measures': {'us': {'amount': 1.0, 'unitShort': 'tsp', 'unitLong': 'teaspoon'}, 'metric': {'amount': 1.0, 'unitShort': 'tsp', 'unitLong': 'teaspoon'}}}, {'id': 11282, 'aisle': 'Produce', 'image': 'brown-onion.png', 'consistency': 'SOLID', 'name': 'onions', 'nameClean': 'onion', 'original': 'A handful of chopped onions', 'originalName': 'chopped onions', 'amount': 1.0, 'unit': 'handful', 'meta': ['chopped'], 'measures': {'us': {'amount': 1.0, 'unitShort': 'handful', 'unitLong': 'handful'}, 'metric': {'amount': 1.0, 'unitShort': 'handful', 'unitLong': 'handful'}}}, {'id': 10099295, 'aisle': 'Produce', 'image': 'bananas-ripe.jpg', 'consistency': 'SOLID', 'name': 'over-ripe plantain', 'nameClean': 'yellow plantain', 'original': '1 over-ripe plantain (Mashed)', 'originalName': 'over-ripe plantain (Mashed)', 'amount': 1.0, 'unit': '', 'meta': ['mashed', '()'], 'measures': {'us': {'amount': 1.0, 'unitShort': '', 'unitLong': ''}, 'metric': {'amount': 1.0, 'unitShort': '', 'unitLong': ''}}}, {'id': 2047, 'aisle': 'Spices and Seasonings', 'image': 'salt.jpg', 'consistency': 'SOLID', 'name': 'salt', 'nameClean': 'table salt', 'original': '1 teaspoon salt', 'originalName': 'salt', 'amount': 1.0, 'unit': 'teaspoon', 'meta': [], 'measures': {'us': {'amount': 1.0, 'unitShort': 'tsp', 'unitLong': 'teaspoon'}, 'metric': {'amount': 1.0, 'unitShort': 'tsp', 'unitLong': 'teaspoon'}}}, {'id': 19335, 'aisle': 'Baking', 'image': 'sugar-in-bowl.png', 'consistency': 'SOLID', 'name': 'sugar', 'nameClean': 'sugar', 'original': '1/2 teaspoon of sugar', 'originalName': 'sugar', 'amount': 0.5, 'unit': 'teaspoon', 'meta': [], 'measures': {'us': {'amount': 0.5, 'unitShort': 'tsps', 'unitLong': 'teaspoons'}, 'metric': {'amount': 0.5, 'unitShort': 'tsps', 'unitLong': 'teaspoons'}}}, {'id': 11529, 'aisle': 'Produce', 'image': 'tomato.png', 'consistency': 'SOLID', 'name': 'tomato)', 'nameClean': 'tomato', 'original': '1 tomato(Blended)', 'originalName': 'tomato(Blended)', 'amount': 1.0, 'unit': '', 'meta': [], 'measures': {'us': {'amount': 1.0, 'unitShort': '', 'unitLong': ''}, 'metric': {'amount': 1.0, 'unitShort': '', 'unitLong': ''}}}, {'id': 14412, 'aisle': 'Beverages', 'image': 'water.png', 'consistency': 'LIQUID', 'name': 'water', 'nameClean': 'water', 'original': '3/4 cup of water', 'originalName': 'water', 'amount': 0.75, 'unit': 'cup', 'meta': [], 'measures': {'us': {'amount': 0.75, 'unitShort': 'cups', 'unitLong': 'cups'}, 'metric': {'amount': 177.441, 'unitShort': 'ml', 'unitLong': 'milliliters'}}}, {'id': 18375, 'aisle': 'Baking', 'image': 'yeast-granules.jpg', 'consistency': 'SOLID', 'name': 'yeast', 'nameClean': 'dry yeast', 'original': '1.5 teaspoons of yeast', 'originalName': 'yeast', 'amount': 1.5, 'unit': 'teaspoons', 'meta': [], 'measures': {'us': {'amount': 1.5, 'unitShort': 'tsps', 'unitLong': 'teaspoons'}, 'metric': {'amount': 1.5, 'unitShort': 'tsps', 'unitLong': 'teaspoons'}}}]\n"
          ]
        }
      ],
      "source": [
        "print(recipe_ingredients)"
      ]
    },
    {
      "cell_type": "code",
      "execution_count": 39,
      "metadata": {
        "colab": {
          "base_uri": "https://localhost:8080/"
        },
        "id": "ez-WWJgOkM9e",
        "outputId": "521408d3-52f8-456a-f8a6-46f5b32c7bb4"
      },
      "outputs": [
        {
          "output_type": "stream",
          "name": "stdout",
          "text": [
            "1 cup of chopped Beef\n",
            "1 Bell pepper (Blended)\n",
            "1 Bell pepper (Blended)\n",
            "1 handful of chopped bell peppers\n",
            "1 handful of chopped bell peppers\n",
            "2 cups of Bread flour\n",
            "Seasoning cube\n",
            "1 tablespoon of oil\n",
            "1 teaspoon oil\n",
            "A handful of chopped onions\n",
            "1 over-ripe plantain (Mashed)\n",
            "1 teaspoon salt\n",
            "1/2 teaspoon of sugar\n",
            "1 tomato(Blended)\n",
            "3/4 cup of water\n",
            "1.5 teaspoons of yeast\n"
          ]
        }
      ],
      "source": [
        "\n",
        "for ingredient in recipe_ingredients:\n",
        "  print(ingredient['original'])\n",
        "\n",
        "#print(recipe_ingredients[0]['original'])\n"
      ]
    },
    {
      "cell_type": "code",
      "execution_count": 40,
      "metadata": {
        "id": "d64ktCAelFDb"
      },
      "outputs": [],
      "source": [
        "#cause there seem to be repeats in the ingredients, removing repeats:\n",
        "#some preprocessing as well\n",
        "ingredient_list = []\n",
        "i = 0\n",
        "while i < len(recipe_ingredients):\n",
        "  ingredient_desc = recipe_ingredients[i]['original']\n",
        "  complex_condition = ingredient_desc[0] == 'A' and ingredient_desc[1] == ' '\n",
        "  if not ingredient_desc[0].isnumeric() and (not complex_condition):\n",
        "    ingredient_desc = \"A \"+ ingredient_desc.lower()\n",
        "\n",
        "  if (not ingredient_list) or (ingredient_desc.lower() != ingredient_list[-1]):\n",
        "    if ingredient_desc[0].isnumeric():\n",
        "      ingredient_list.append(ingredient_desc.lower())\n",
        "    else:\n",
        "      ingredient_list.append(ingredient_desc)\n",
        "\n",
        "\n",
        "  i += 1\n",
        "\n"
      ]
    },
    {
      "cell_type": "code",
      "execution_count": 41,
      "metadata": {
        "colab": {
          "base_uri": "https://localhost:8080/"
        },
        "id": "ocINPczasaSf",
        "outputId": "dc835c3e-8d51-4342-8044-260a45e80c3c"
      },
      "outputs": [
        {
          "output_type": "stream",
          "name": "stdout",
          "text": [
            "Dissolve the yeast in warm water and leave to stand for about 5 minutes.Mix the oil, flour, salt, sugar and mashed plantain and pour in the dissolved yeast.Knead the dough till its elastic which may take aBout 15-20 minutes By hand or 10 minutes in a mixer.Coat a Bowl lightly with oil and place the dough in it. Cover with a plastic wrap and leave to rise between 1.5 – 2 hours.While the dough is rising, heat up the oil for the sauce, fry the Blended tomato and pepper, season and stir fry the Beef in the tomato sauce. Set aside.When the dough rises, divide into two. Sprinkle some flour on a flat surface and with a rolling pin, flatten out the dough but not excessively. Cut the dough into your desired shape, rub some oil on it and spread your sauce and toppings on it and set aside.Heat up your oven to 350 F and place your pizza dough on a lightly oiled foil pan and Bake for 12-15 mins. Serve warm\n"
          ]
        }
      ],
      "source": [
        "#formatting the instructions in recipe_instructions\n",
        "recipe_instructions = (recipe_instructions[3:-4])\n",
        "print(recipe_instructions)\n"
      ]
    },
    {
      "cell_type": "code",
      "execution_count": 42,
      "metadata": {
        "id": "c8mqP4Jhve2Z"
      },
      "outputs": [],
      "source": [
        "bound = 0\n",
        "recipe_inst_list = []\n",
        "while i < len(recipe_instructions):\n",
        "  if recipe_instructions[i] == '.':\n",
        "    if recipe_instructions and i + 1 < len(recipe_instructions):\n",
        "      if not (recipe_instructions[i-1].isnumeric() and recipe_instructions[i+1].isnumeric()):\n",
        "        recipe_inst_list.append(recipe_instructions[bound: i+1])\n",
        "        bound = i + 1\n",
        "  i += 1\n",
        "if bound < len(recipe_instructions):\n",
        "  recipe_inst_list.append(recipe_instructions[bound:]+'.')\n",
        "\n",
        "\n"
      ]
    },
    {
      "cell_type": "code",
      "execution_count": 43,
      "metadata": {
        "colab": {
          "base_uri": "https://localhost:8080/"
        },
        "id": "httHhlZt4T4r",
        "outputId": "644ca70d-7c24-4718-99c7-7be23e3db94c"
      },
      "outputs": [
        {
          "output_type": "stream",
          "name": "stdout",
          "text": [
            "['Dissolve the yeast in warm water and leave to stand for about 5 minutes.', 'Mix the oil, flour, salt, sugar and mashed plantain and pour in the dissolved yeast.', 'Knead the dough till its elastic which may take aBout 15-20 minutes By hand or 10 minutes in a mixer.', 'Coat a Bowl lightly with oil and place the dough in it.', ' Cover with a plastic wrap and leave to rise between 1.5 – 2 hours.', 'While the dough is rising, heat up the oil for the sauce, fry the Blended tomato and pepper, season and stir fry the Beef in the tomato sauce.', ' Set aside.', 'When the dough rises, divide into two.', ' Sprinkle some flour on a flat surface and with a rolling pin, flatten out the dough but not excessively.', ' Cut the dough into your desired shape, rub some oil on it and spread your sauce and toppings on it and set aside.', 'Heat up your oven to 350 F and place your pizza dough on a lightly oiled foil pan and Bake for 12-15 mins.', ' Serve warm.']\n"
          ]
        }
      ],
      "source": [
        "print(recipe_inst_list)"
      ]
    },
    {
      "cell_type": "code",
      "execution_count": 44,
      "metadata": {
        "colab": {
          "base_uri": "https://localhost:8080/"
        },
        "id": "6D5amW8N0Yry",
        "outputId": "d182aff3-ca0b-4061-c3a4-98983d29e972"
      },
      "outputs": [
        {
          "output_type": "stream",
          "name": "stdout",
          "text": [
            "<class 'str'>\n"
          ]
        }
      ],
      "source": [
        "i = 0\n",
        "print(type(recipe_inst_list[0]))\n",
        "while i < len(recipe_inst_list):\n",
        "  recipe_inst_list[i] = (recipe_inst_list[i].lstrip().capitalize())[:-1]\n",
        "  i += 1\n"
      ]
    },
    {
      "cell_type": "code",
      "execution_count": 45,
      "metadata": {
        "colab": {
          "base_uri": "https://localhost:8080/"
        },
        "id": "31deCrvL3INo",
        "outputId": "d53e0fb6-f80a-4f1a-8b3c-c7343e7cec00"
      },
      "outputs": [
        {
          "output_type": "stream",
          "name": "stdout",
          "text": [
            "['Dissolve the yeast in warm water and leave to stand for about 5 minutes', 'Mix the oil, flour, salt, sugar and mashed plantain and pour in the dissolved yeast', 'Knead the dough till its elastic which may take about 15-20 minutes by hand or 10 minutes in a mixer', 'Coat a bowl lightly with oil and place the dough in it', 'Cover with a plastic wrap and leave to rise between 1.5 – 2 hours', 'While the dough is rising, heat up the oil for the sauce, fry the blended tomato and pepper, season and stir fry the beef in the tomato sauce', 'Set aside', 'When the dough rises, divide into two', 'Sprinkle some flour on a flat surface and with a rolling pin, flatten out the dough but not excessively', 'Cut the dough into your desired shape, rub some oil on it and spread your sauce and toppings on it and set aside', 'Heat up your oven to 350 f and place your pizza dough on a lightly oiled foil pan and bake for 12-15 mins', 'Serve warm']\n"
          ]
        }
      ],
      "source": [
        "print(recipe_inst_list)"
      ]
    },
    {
      "cell_type": "code",
      "execution_count": 46,
      "metadata": {
        "colab": {
          "base_uri": "https://localhost:8080/"
        },
        "id": "-vdLGjfFrYqR",
        "outputId": "fc697a03-7a15-498f-e5bb-1b01a2d93e29"
      },
      "outputs": [
        {
          "output_type": "stream",
          "name": "stdout",
          "text": [
            "Here are the ingredients: \n",
            "1 cup of chopped beef\n",
            "1 bell pepper (blended)\n",
            "1 handful of chopped bell peppers\n",
            "2 cups of bread flour\n",
            "A seasoning cube\n",
            "1 tablespoon of oil\n",
            "1 teaspoon oil\n",
            "A handful of chopped onions\n",
            "1 over-ripe plantain (mashed)\n",
            "1 teaspoon salt\n",
            "1/2 teaspoon of sugar\n",
            "1 tomato(blended)\n",
            "3/4 cup of water\n",
            "1.5 teaspoons of yeast\n",
            "\n",
            "\n",
            "Here is the recipe: \n",
            "1. Dissolve the yeast in warm water and leave to stand for about 5 minutes\n",
            "2. Mix the oil, flour, salt, sugar and mashed plantain and pour in the dissolved yeast\n",
            "3. Knead the dough till its elastic which may take about 15-20 minutes by hand or 10 minutes in a mixer\n",
            "4. Coat a bowl lightly with oil and place the dough in it\n",
            "5. Cover with a plastic wrap and leave to rise between 1.5 – 2 hours\n",
            "6. While the dough is rising, heat up the oil for the sauce, fry the blended tomato and pepper, season and stir fry the beef in the tomato sauce\n",
            "7. Set aside\n",
            "8. When the dough rises, divide into two\n",
            "9. Sprinkle some flour on a flat surface and with a rolling pin, flatten out the dough but not excessively\n",
            "10. Cut the dough into your desired shape, rub some oil on it and spread your sauce and toppings on it and set aside\n",
            "11. Heat up your oven to 350 f and place your pizza dough on a lightly oiled foil pan and bake for 12-15 mins\n",
            "12. Serve warm\n"
          ]
        }
      ],
      "source": [
        "#the official ingredients is stored in the ingredient_list\n",
        "#the official recipe (set of instructions is stored in recipe_inst_list)\n",
        "print(\"Here are the ingredients: \")\n",
        "for ingredient in ingredient_list:\n",
        "  print(ingredient)\n",
        "print(\"\\n\")\n",
        "print(\"Here is the recipe: \")\n",
        "for i in range(len(recipe_inst_list)):\n",
        "  print(str(i+1)+\". \"+recipe_inst_list[i])\n"
      ]
    }
  ],
  "metadata": {
    "colab": {
      "provenance": []
    },
    "kernelspec": {
      "display_name": "Python 3",
      "name": "python3"
    },
    "language_info": {
      "name": "python"
    }
  },
  "nbformat": 4,
  "nbformat_minor": 0
}